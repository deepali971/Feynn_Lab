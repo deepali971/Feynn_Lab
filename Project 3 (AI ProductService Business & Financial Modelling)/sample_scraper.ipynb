{
  "nbformat": 4,
  "nbformat_minor": 0,
  "metadata": {
    "colab": {
      "provenance": [],
      "toc_visible": true,
      "authorship_tag": "ABX9TyPqlbPdKLyiFUxpwdJtm6ej",
      "include_colab_link": true
    },
    "kernelspec": {
      "name": "python3",
      "display_name": "Python 3"
    },
    "language_info": {
      "name": "python"
    }
  },
  "cells": [
    {
      "cell_type": "markdown",
      "metadata": {
        "id": "view-in-github",
        "colab_type": "text"
      },
      "source": [
        "<a href=\"https://colab.research.google.com/github/Kushl143/feynee-labs/blob/main/sample_scraper.ipynb\" target=\"_parent\"><img src=\"https://colab.research.google.com/assets/colab-badge.svg\" alt=\"Open In Colab\"/></a>"
      ]
    },
    {
      "cell_type": "code",
      "execution_count": 15,
      "metadata": {
        "id": "B2DUzw9uzY-q"
      },
      "outputs": [],
      "source": [
        "import os\n",
        "from selenium import webdriver\n",
        "from selenium.webdriver.common.by import By\n",
        "from selenium.webdriver.common.action_chains import ActionChains\n",
        "from selenium.webdriver.common.keys import Keys\n",
        "from selenium.webdriver.chrome.options import Options\n",
        "import time\n",
        "import pandas as pd"
      ]
    },
    {
      "cell_type": "code",
      "source": [
        "google_hotel_df = pd.DataFrame(columns=['Hotel_Name', 'Hotel_Rating', 'City', 'Feature_1', 'Feature_2', 'Feature_3', 'Feature_4', 'Feature_5', 'Feature_6', 'Feature_7','Feature_8', 'Feature_9', 'Hotel_Price'])\n",
        "\n",
        "def get_hotel_name(div):\n",
        "    return div.find_element(By.CSS_SELECTOR, '.BgYkof.ogfYpf').text\n",
        "\n",
        "def get_hotel_rating(div):\n",
        "    try:\n",
        "        return div.find_element(By.CSS_SELECTOR, '.lA0BZ').text\n",
        "    except:\n",
        "        return 'NA'\n",
        "\n",
        "def get_hotel_price(div):\n",
        "    try:\n",
        "        return div.find_element(By.CSS_SELECTOR, '.kixHKb.flySGb').text\n",
        "    except:\n",
        "        return 'NA'\n",
        "\n",
        "def get_hotel_features(div):\n",
        "    try:\n",
        "        features = div.find_elements(By.CSS_SELECTOR, '.bX73z')\n",
        "        hotel_features = [feature.text for feature in features]\n",
        "        while len(hotel_features) < 9:\n",
        "            hotel_features.append('NA')\n",
        "    except:\n",
        "        hotel_features = ['NA'] * 9\n",
        "    return hotel_features\n"
      ],
      "metadata": {
        "id": "80SlQ92lzlLo"
      },
      "execution_count": 16,
      "outputs": []
    },
    {
      "cell_type": "code",
      "source": [
        "base_url = 'https://www.google.com/travel/hotels'\n",
        "cities = ['kochi', 'trivandrum', 'kumarakom', 'pune', 'chennai']\n",
        "\n",
        "chrome_user_data_dir = os.path.join(os.getcwd(), \"chrome_user_data\")\n",
        "os.makedirs(chrome_user_data_dir, exist_ok=True)\n",
        "chrome_options = Options()\n",
        "chrome_options.add_argument(f\"--user-data-dir={chrome_user_data_dir}\")\n",
        "chrome_options.add_argument(\"--no-sandbox\")\n",
        "chrome_options.add_argument(\"--disable-dev-shm-usage\")\n",
        "\n",
        "driver = webdriver.Chrome(options=chrome_options)\n",
        "driver.get(base_url)\n",
        "\n",
        "hotel_name, hotel_rating, hotel_city, feature_1, feature_2, feature_3, feature_4 = [], [], [], [], [], [], []\n",
        "feature_5, feature_6, feature_7, feature_8, feature_9, hotel_price = [], [], [], [], [], []\n",
        "\n",
        "for city in cities:\n",
        "    search_bar = driver.find_element(By.CLASS_NAME, 'II2One')\n",
        "    search_bar.clear()\n",
        "    search_bar.send_keys(city)\n",
        "    time.sleep(5)\n",
        "    actions = ActionChains(driver)\n",
        "    actions.send_keys(Keys.RETURN)\n",
        "    actions.perform()\n",
        "    time.sleep(10)\n",
        "    div_elements = driver.find_elements(By.CSS_SELECTOR, '.kCsInf')\n",
        "\n",
        "    for div in div_elements:\n",
        "        hotel_name.append(get_hotel_name(div))\n",
        "        hotel_rating.append(get_hotel_rating(div))\n",
        "        hotel_city.append(city)\n",
        "        hotel_price.append(get_hotel_price(div))\n",
        "        features = get_hotel_features(div)\n",
        "        feature_1.append(features[0])\n",
        "        feature_2.append(features[1])\n",
        "        feature_3.append(features[2])\n",
        "        feature_4.append(features[3])\n",
        "        feature_5.append(features[4])\n",
        "        feature_6.append(features[5])\n",
        "        feature_7.append(features[6])\n",
        "        feature_8.append(features[7])\n",
        "        feature_9.append(features[8])\n"
      ],
      "metadata": {
        "id": "11kNUGIV3F1s"
      },
      "execution_count": null,
      "outputs": []
    },
    {
      "cell_type": "code",
      "source": [
        "google_hotel_df['Hotel_Name'] = hotel_name\n",
        "google_hotel_df['Hotel_Rating'] = hotel_rating\n",
        "google_hotel_df['City'] = hotel_city\n",
        "google_hotel_df['Feature_1'] = feature_1\n",
        "google_hotel_df['Feature_2'] = feature_2\n",
        "google_hotel_df['Feature_3'] = feature_3\n",
        "google_hotel_df['Feature_4'] = feature_4\n",
        "google_hotel_df['Feature_5'] = feature_5\n",
        "google_hotel_df['Feature_6'] = feature_6\n",
        "google_hotel_df['Feature_7'] = feature_7\n",
        "google_hotel_df['Feature_8'] = feature_8\n",
        "google_hotel_df['Feature_9'] = feature_9\n",
        "google_hotel_df['Hotel_Price'] = hotel_price\n",
        "\n",
        "google_hotel_df.to_csv('./data/google_hotel_data_raw_v2.csv', index=False)"
      ],
      "metadata": {
        "id": "fc7-9GRk3JLR"
      },
      "execution_count": null,
      "outputs": []
    }
  ]
}