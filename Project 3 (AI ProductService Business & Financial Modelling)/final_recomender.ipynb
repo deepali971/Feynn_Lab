{
  "nbformat": 4,
  "nbformat_minor": 0,
  "metadata": {
    "colab": {
      "provenance": [],
      "authorship_tag": "ABX9TyPRRZXUZq0dYT+9wmswRBeQ",
      "include_colab_link": true
    },
    "kernelspec": {
      "name": "python3",
      "display_name": "Python 3"
    },
    "language_info": {
      "name": "python"
    }
  },
  "cells": [
    {
      "cell_type": "markdown",
      "metadata": {
        "id": "view-in-github",
        "colab_type": "text"
      },
      "source": [
        "<a href=\"https://colab.research.google.com/github/Kushl143/feynee-labs/blob/main/Copy_of_Untitled2.ipynb\" target=\"_parent\"><img src=\"https://colab.research.google.com/assets/colab-badge.svg\" alt=\"Open In Colab\"/></a>"
      ]
    },
    {
      "cell_type": "code",
      "execution_count": null,
      "metadata": {
        "id": "GNw0wEq6weTE"
      },
      "outputs": [],
      "source": [
        "import pandas as pd\n",
        "import numpy as np\n",
        "from sklearn.feature_extraction.text import TfidfVectorizer\n",
        "from sklearn.metrics.pairwise import cosine_similarity\n",
        "from sklearn.preprocessing import LabelEncoder, StandardScaler\n",
        "from scipy.sparse.linalg import svds\n",
        "import matplotlib.pyplot as plt\n",
        "import seaborn as sns"
      ]
    },
    {
      "cell_type": "code",
      "source": [
        "# Step 1: Load and Explore Dataset\n",
        "df = pd.read_csv(\"/content/google_hotel_data_clean_v1.csv\")\n",
        "print(df.head())\n",
        "print(df.info())\n",
        "print(df.isnull().sum())\n",
        "\n"
      ],
      "metadata": {
        "colab": {
          "base_uri": "https://localhost:8080/"
        },
        "id": "KwW9Tu__wwyG",
        "outputId": "0a2e3870-f978-49c6-ae20-63c1a3de8235"
      },
      "execution_count": null,
      "outputs": [
        {
          "output_type": "stream",
          "name": "stdout",
          "text": [
            "                                 Hotel_Name  Hotel_Rating   City  \\\n",
            "0                      Trident Hotel Cochin           4.4  kochi   \n",
            "1  The Gateway Hotel Marine Drive Ernakulam           4.3  kochi   \n",
            "2                   Ramada by Wyndham Kochi           4.5  kochi   \n",
            "3                          The Renai cochin           4.2  kochi   \n",
            "4                 SpringField Billets Hotel           4.2  kochi   \n",
            "\n",
            "      Feature_1       Feature_2   Feature_3     Feature_4 Feature_5  \\\n",
            "0  5-star hotel  Free breakfast       Wi-Fi  Free parking      Pool   \n",
            "1  5-star hotel  Free breakfast  Free Wi-Fi  Free parking      Pool   \n",
            "2  5-star hotel       Breakfast  Free Wi-Fi  Free parking      Pool   \n",
            "3  4-star hotel  Free breakfast  Free Wi-Fi  Free parking      Pool   \n",
            "4  3-star hotel       Breakfast  Free Wi-Fi  Free parking   Kitchen   \n",
            "\n",
            "          Feature_6             Feature_7        Feature_8     Feature_9  \\\n",
            "0  Air conditioning        Fitness center              Spa    Restaurant   \n",
            "1  Air conditioning        Fitness center              Spa    Restaurant   \n",
            "2  Air conditioning        Fitness center              Spa           Bar   \n",
            "3  Air conditioning        Fitness center              Spa           Bar   \n",
            "4   Airport shuttle  Full-service laundry  Business center  Kid-friendly   \n",
            "\n",
            "   Hotel_Price  \n",
            "0       7246.0  \n",
            "1       9440.0  \n",
            "2       8964.0  \n",
            "3       2768.0  \n",
            "4       1340.0  \n",
            "<class 'pandas.core.frame.DataFrame'>\n",
            "RangeIndex: 1073 entries, 0 to 1072\n",
            "Data columns (total 13 columns):\n",
            " #   Column        Non-Null Count  Dtype  \n",
            "---  ------        --------------  -----  \n",
            " 0   Hotel_Name    1073 non-null   object \n",
            " 1   Hotel_Rating  1073 non-null   float64\n",
            " 2   City          1073 non-null   object \n",
            " 3   Feature_1     1073 non-null   object \n",
            " 4   Feature_2     1073 non-null   object \n",
            " 5   Feature_3     1073 non-null   object \n",
            " 6   Feature_4     1073 non-null   object \n",
            " 7   Feature_5     1073 non-null   object \n",
            " 8   Feature_6     1073 non-null   object \n",
            " 9   Feature_7     1073 non-null   object \n",
            " 10  Feature_8     1073 non-null   object \n",
            " 11  Feature_9     1073 non-null   object \n",
            " 12  Hotel_Price   1073 non-null   float64\n",
            "dtypes: float64(2), object(11)\n",
            "memory usage: 109.1+ KB\n",
            "None\n",
            "Hotel_Name      0\n",
            "Hotel_Rating    0\n",
            "City            0\n",
            "Feature_1       0\n",
            "Feature_2       0\n",
            "Feature_3       0\n",
            "Feature_4       0\n",
            "Feature_5       0\n",
            "Feature_6       0\n",
            "Feature_7       0\n",
            "Feature_8       0\n",
            "Feature_9       0\n",
            "Hotel_Price     0\n",
            "dtype: int64\n"
          ]
        }
      ]
    },
    {
      "cell_type": "code",
      "source": [
        "# Step 2: Data Preprocessing\n",
        "# Fill missing values\n",
        "df.fillna(\"\", inplace=True)\n",
        "\n",
        "# Encode categorical variables (City)\n",
        "le = LabelEncoder()\n",
        "df['City_Encoded'] = le.fit_transform(df['City'])\n",
        "\n",
        "# Combine hotel features into a single text column\n",
        "df['Features'] = df[['Feature_1', 'Feature_2', 'Feature_3', 'Feature_4', 'Feature_5', 'Feature_6', 'Feature_7', 'Feature_8', 'Feature_9']].astype(str).agg(' '.join, axis=1)\n"
      ],
      "metadata": {
        "id": "KwPAc_tIw2Ko"
      },
      "execution_count": null,
      "outputs": []
    },
    {
      "cell_type": "code",
      "source": [
        "# Step 3: Content-Based Filtering\n",
        "vectorizer = TfidfVectorizer(stop_words='english')\n",
        "tfidf_matrix = vectorizer.fit_transform(df['Features'])\n",
        "cosine_sim = cosine_similarity(tfidf_matrix, tfidf_matrix)\n",
        "\n",
        "def recommend_hotels(hotel_name, num_recommendations=5):\n",
        "    if hotel_name not in df['Hotel_Name'].values:\n",
        "        print(f\"Hotel '{hotel_name}' not found in dataset.\")\n",
        "        return pd.DataFrame()\n",
        "\n",
        "    idx = df[df['Hotel_Name'] == hotel_name].index[0]\n",
        "    sim_scores = list(enumerate(cosine_sim[idx]))\n",
        "    sim_scores = sorted(sim_scores, key=lambda x: x[1], reverse=True)\n",
        "    sim_scores = sim_scores[1:num_recommendations+1]\n",
        "    hotel_indices = [i[0] for i in sim_scores]\n",
        "    return df.iloc[hotel_indices]\n",
        "\n"
      ],
      "metadata": {
        "id": "URZ_5oRAw7h0"
      },
      "execution_count": null,
      "outputs": []
    },
    {
      "cell_type": "code",
      "source": [
        "# Step 4: Collaborative Filtering (Matrix Factorization)\n",
        "# Normalize Hotel Ratings\n",
        "scaler = StandardScaler()\n",
        "df['Hotel_Rating_Scaled'] = scaler.fit_transform(df[['Hotel_Rating']])\n",
        "\n",
        "# Creating a user-hotel rating matrix (Simulated Data)\n",
        "np.random.seed(42)\n",
        "num_users = 500\n",
        "df_ratings = pd.DataFrame({\n",
        "    'user_id': np.random.randint(1, num_users + 1, df.shape[0]),\n",
        "    'hotel_id': df.index,\n",
        "    'rating': np.random.uniform(1, 5, df.shape[0])  # Simulated ratings\n",
        "})\n",
        "user_hotel_matrix = df_ratings.pivot(index='user_id', columns='hotel_id', values='rating').fillna(0)\n",
        "\n",
        "# Ensure matrix contains only numeric values and convert to float\n",
        "user_hotel_matrix = user_hotel_matrix.astype(np.float64)\n",
        "\n",
        "# Perform Singular Value Decomposition (SVD)\n",
        "U, sigma, Vt = svds(user_hotel_matrix.values, k=min(50, user_hotel_matrix.shape[1]-1))\n",
        "sigma = np.diag(sigma)  # Convert singular values into diagonal matrix\n",
        "\n",
        "# Compute predicted ratings\n",
        "predicted_ratings = np.dot(np.dot(U, sigma), Vt)\n",
        "\n",
        "# Convert back to DataFrame\n",
        "predictions_df = pd.DataFrame(predicted_ratings, index=user_hotel_matrix.index, columns=user_hotel_matrix.columns)\n",
        "\n",
        "def recommend_hotels_collaborative(user_id, num_recommendations=5):\n",
        "    if user_id not in predictions_df.index:\n",
        "        print(f\"User ID '{user_id}' not found in dataset.\")\n",
        "        return pd.DataFrame()\n",
        "\n",
        "    user_ratings = predictions_df.loc[user_id].sort_values(ascending=False)\n",
        "    return df.iloc[user_ratings.index[:num_recommendations]]"
      ],
      "metadata": {
        "id": "5lN2VY2GxB4d"
      },
      "execution_count": null,
      "outputs": []
    },
    {
      "cell_type": "code",
      "source": [
        "# Step 5: Hybrid Recommendation\n",
        "def hybrid_recommendation(user_id, hotel_name, num_recommendations=5):\n",
        "    content_recs = recommend_hotels(hotel_name, num_recommendations)\n",
        "    collab_recs = recommend_hotels_collaborative(user_id, num_recommendations)\n",
        "\n",
        "    if content_recs.empty and collab_recs.empty:\n",
        "        print(\"No recommendations found for given input.\")\n",
        "        return pd.DataFrame()\n",
        "\n",
        "    hybrid_recs = pd.concat([content_recs, collab_recs]).drop_duplicates().head(num_recommendations)\n",
        "    return hybrid_recs\n",
        "\n",
        "# Example usage\n",
        "print(hybrid_recommendation(user_id=1, hotel_name=\"Example Hotel\"))\n"
      ],
      "metadata": {
        "colab": {
          "base_uri": "https://localhost:8080/"
        },
        "id": "0OlkUsZBxFOe",
        "outputId": "adb07915-2fcb-4135-9038-f05667b635c5"
      },
      "execution_count": null,
      "outputs": [
        {
          "output_type": "stream",
          "name": "stdout",
          "text": [
            "Hotel 'Example Hotel' not found in dataset.\n",
            "                                             Hotel_Name  Hotel_Rating  \\\n",
            "891   Hotel apple grand and grand darshan restaurant...           4.4   \n",
            "609                              Hotel Ruchi The Prince           4.2   \n",
            "930                                      Hotel Sai Rama           4.4   \n",
            "1040                        Cambay Sapphire Gandhinagar           3.4   \n",
            "122                                KTDC Grand Chaithram           4.1   \n",
            "\n",
            "             City       Feature_1       Feature_2     Feature_3     Feature_4  \\\n",
            "891      vadodara  Free breakfast      Free Wi-Fi  Free parking          Pool   \n",
            "609        mysore    4-star hotel  Free breakfast         Wi-Fi  Free parking   \n",
            "930    vijayawada  Free breakfast      Free Wi-Fi  Paid parking          Pool   \n",
            "1040  gandhinagar    4-star hotel  Free breakfast    Free Wi-Fi  Free parking   \n",
            "122    trivandrum    3-star hotel  Free breakfast    Free Wi-Fi  Free parking   \n",
            "\n",
            "             Feature_5         Feature_6       Feature_7  \\\n",
            "891   Air conditioning        Restaurant    Room service   \n",
            "609   Air conditioning    Fitness center             Spa   \n",
            "930   Air conditioning      Room service         Kitchen   \n",
            "1040              Pool  Air conditioning  Fitness center   \n",
            "122   Air conditioning        Restaurant    Room service   \n",
            "\n",
            "                 Feature_8             Feature_9  Hotel_Price  City_Encoded  \\\n",
            "891                Kitchen  Full-service laundry       2014.0            43   \n",
            "609             Restaurant          Room service       2703.0            33   \n",
            "930   Full-service laundry          Kid-friendly       1188.0            45   \n",
            "1040                   Spa            Restaurant       3998.0            14   \n",
            "122   Full-service laundry            Accessible       2509.0            42   \n",
            "\n",
            "                                               Features  Hotel_Rating_Scaled  \n",
            "891   Free breakfast Free Wi-Fi Free parking Pool Ai...             0.649367  \n",
            "609   4-star hotel Free breakfast Wi-Fi Free parking...             0.133049  \n",
            "930   Free breakfast Free Wi-Fi Paid parking Pool Ai...             0.649367  \n",
            "1040  4-star hotel Free breakfast Free Wi-Fi Free pa...            -1.932221  \n",
            "122   3-star hotel Free breakfast Free Wi-Fi Free pa...            -0.125110  \n"
          ]
        }
      ]
    },
    {
      "cell_type": "code",
      "source": [
        "\n"
      ],
      "metadata": {
        "id": "27jBPqrvxwFE"
      },
      "execution_count": null,
      "outputs": []
    }
  ]
}
