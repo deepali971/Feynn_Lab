{
  "nbformat": 4,
  "nbformat_minor": 0,
  "metadata": {
    "colab": {
      "provenance": [],
      "authorship_tag": "ABX9TyO+EaHB8X2DRIztLFx7Fe0y",
      "include_colab_link": true
    },
    "kernelspec": {
      "name": "python3",
      "display_name": "Python 3"
    },
    "language_info": {
      "name": "python"
    }
  },
  "cells": [
    {
      "cell_type": "markdown",
      "metadata": {
        "id": "view-in-github",
        "colab_type": "text"
      },
      "source": [
        "<a href=\"https://colab.research.google.com/github/Kushl143/feynee-labs/blob/main/data_preprocessing.ipynb\" target=\"_parent\"><img src=\"https://colab.research.google.com/assets/colab-badge.svg\" alt=\"Open In Colab\"/></a>"
      ]
    },
    {
      "cell_type": "code",
      "execution_count": 1,
      "metadata": {
        "id": "cwz0v0kvv10g"
      },
      "outputs": [],
      "source": [
        "import pandas as pd\n",
        "import numpy as np\n",
        "from sklearn.feature_extraction.text import TfidfVectorizer\n",
        "from sklearn.metrics.pairwise import cosine_similarity\n",
        "from sklearn.preprocessing import LabelEncoder, StandardScaler\n",
        "from scipy.sparse.linalg import svds\n",
        "import matplotlib.pyplot as plt\n",
        "import seaborn as sns"
      ]
    },
    {
      "cell_type": "code",
      "source": [
        "# Step 1: Load and Explore Dataset\n",
        "df = pd.read_csv(\"/content/google_hotel_data_clean_v1.csv\")\n",
        "print(df.head())\n",
        "print(df.info())\n",
        "print(df.isnull().sum())"
      ],
      "metadata": {
        "colab": {
          "base_uri": "https://localhost:8080/"
        },
        "id": "d8jY9VQ3v6DR",
        "outputId": "d3aa64f9-f552-4bd6-feab-9cdb059dc163"
      },
      "execution_count": 2,
      "outputs": [
        {
          "output_type": "stream",
          "name": "stdout",
          "text": [
            "                                 Hotel_Name  Hotel_Rating   City  \\\n",
            "0                      Trident Hotel Cochin           4.4  kochi   \n",
            "1  The Gateway Hotel Marine Drive Ernakulam           4.3  kochi   \n",
            "2                   Ramada by Wyndham Kochi           4.5  kochi   \n",
            "3                          The Renai cochin           4.2  kochi   \n",
            "4                 SpringField Billets Hotel           4.2  kochi   \n",
            "\n",
            "      Feature_1       Feature_2   Feature_3     Feature_4 Feature_5  \\\n",
            "0  5-star hotel  Free breakfast       Wi-Fi  Free parking      Pool   \n",
            "1  5-star hotel  Free breakfast  Free Wi-Fi  Free parking      Pool   \n",
            "2  5-star hotel       Breakfast  Free Wi-Fi  Free parking      Pool   \n",
            "3  4-star hotel  Free breakfast  Free Wi-Fi  Free parking      Pool   \n",
            "4  3-star hotel       Breakfast  Free Wi-Fi  Free parking   Kitchen   \n",
            "\n",
            "          Feature_6             Feature_7        Feature_8     Feature_9  \\\n",
            "0  Air conditioning        Fitness center              Spa    Restaurant   \n",
            "1  Air conditioning        Fitness center              Spa    Restaurant   \n",
            "2  Air conditioning        Fitness center              Spa           Bar   \n",
            "3  Air conditioning        Fitness center              Spa           Bar   \n",
            "4   Airport shuttle  Full-service laundry  Business center  Kid-friendly   \n",
            "\n",
            "   Hotel_Price  \n",
            "0       7246.0  \n",
            "1       9440.0  \n",
            "2       8964.0  \n",
            "3       2768.0  \n",
            "4       1340.0  \n",
            "<class 'pandas.core.frame.DataFrame'>\n",
            "RangeIndex: 1073 entries, 0 to 1072\n",
            "Data columns (total 13 columns):\n",
            " #   Column        Non-Null Count  Dtype  \n",
            "---  ------        --------------  -----  \n",
            " 0   Hotel_Name    1073 non-null   object \n",
            " 1   Hotel_Rating  1073 non-null   float64\n",
            " 2   City          1073 non-null   object \n",
            " 3   Feature_1     1073 non-null   object \n",
            " 4   Feature_2     1073 non-null   object \n",
            " 5   Feature_3     1073 non-null   object \n",
            " 6   Feature_4     1073 non-null   object \n",
            " 7   Feature_5     1073 non-null   object \n",
            " 8   Feature_6     1073 non-null   object \n",
            " 9   Feature_7     1073 non-null   object \n",
            " 10  Feature_8     1073 non-null   object \n",
            " 11  Feature_9     1073 non-null   object \n",
            " 12  Hotel_Price   1073 non-null   float64\n",
            "dtypes: float64(2), object(11)\n",
            "memory usage: 109.1+ KB\n",
            "None\n",
            "Hotel_Name      0\n",
            "Hotel_Rating    0\n",
            "City            0\n",
            "Feature_1       0\n",
            "Feature_2       0\n",
            "Feature_3       0\n",
            "Feature_4       0\n",
            "Feature_5       0\n",
            "Feature_6       0\n",
            "Feature_7       0\n",
            "Feature_8       0\n",
            "Feature_9       0\n",
            "Hotel_Price     0\n",
            "dtype: int64\n"
          ]
        }
      ]
    },
    {
      "cell_type": "code",
      "source": [
        "# Step 2: Data Preprocessing\n",
        "# Fill missing values\n",
        "df.fillna(\"\", inplace=True)\n",
        "\n",
        "# Encode categorical variables (City)\n",
        "le = LabelEncoder()\n",
        "df['City_Encoded'] = le.fit_transform(df['City'])\n",
        "\n",
        "# Combine hotel features into a single text column\n",
        "df['Features'] = df[['Feature_1', 'Feature_2', 'Feature_3', 'Feature_4', 'Feature_5', 'Feature_6', 'Feature_7', 'Feature_8', 'Feature_9']].astype(str).agg(' '.join, axis=1)\n"
      ],
      "metadata": {
        "id": "tkzrdjhMx7UH"
      },
      "execution_count": 4,
      "outputs": []
    },
    {
      "cell_type": "code",
      "source": [
        "# Step 3: Content-Based Filtering\n",
        "vectorizer = TfidfVectorizer(stop_words='english')\n",
        "tfidf_matrix = vectorizer.fit_transform(df['Features'])\n",
        "cosine_sim = cosine_similarity(tfidf_matrix, tfidf_matrix)\n",
        "\n",
        "def recommend_hotels(hotel_name, num_recommendations=5):\n",
        "    if hotel_name not in df['Hotel_Name'].values:\n",
        "        print(f\"Hotel '{hotel_name}' not found in dataset.\")\n",
        "        return pd.DataFrame()\n",
        "\n",
        "    idx = df[df['Hotel_Name'] == hotel_name].index[0]\n",
        "    sim_scores = list(enumerate(cosine_sim[idx]))\n",
        "    sim_scores = sorted(sim_scores, key=lambda x: x[1], reverse=True)\n",
        "    sim_scores = sim_scores[1:num_recommendations+1]\n",
        "    hotel_indices = [i[0] for i in sim_scores]\n",
        "    return df.iloc[hotel_indices]\n"
      ],
      "metadata": {
        "id": "lRTUe-d-yEaE"
      },
      "execution_count": 5,
      "outputs": []
    }
  ]
}